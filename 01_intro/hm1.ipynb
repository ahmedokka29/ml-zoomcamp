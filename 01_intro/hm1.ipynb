{
 "cells": [
  {
   "cell_type": "code",
   "execution_count": 24,
   "metadata": {},
   "outputs": [
    {
     "name": "stdout",
     "output_type": "stream",
     "text": [
      "1.24.3\n",
      "2.0.3\n"
     ]
    }
   ],
   "source": [
    "import pandas as pd\n",
    "import numpy as np\n",
    "\n",
    "print(np.__version__)\n",
    "# Question 1\n",
    "print(pd.__version__)"
   ]
  },
  {
   "cell_type": "code",
   "execution_count": 26,
   "metadata": {},
   "outputs": [
    {
     "data": {
      "text/plain": [
       "(20640, 10)"
      ]
     },
     "execution_count": 26,
     "metadata": {},
     "output_type": "execute_result"
    }
   ],
   "source": [
    "data = pd.read_csv('master_housing.csv')\n",
    "# Question 2\n",
    "data.shape"
   ]
  },
  {
   "cell_type": "code",
   "execution_count": 15,
   "metadata": {},
   "outputs": [
    {
     "name": "stdout",
     "output_type": "stream",
     "text": [
      "<class 'pandas.core.frame.DataFrame'>\n",
      "RangeIndex: 20640 entries, 0 to 20639\n",
      "Data columns (total 10 columns):\n",
      " #   Column              Non-Null Count  Dtype  \n",
      "---  ------              --------------  -----  \n",
      " 0   longitude           20640 non-null  float64\n",
      " 1   latitude            20640 non-null  float64\n",
      " 2   housing_median_age  20640 non-null  float64\n",
      " 3   total_rooms         20640 non-null  float64\n",
      " 4   total_bedrooms      20433 non-null  float64\n",
      " 5   population          20640 non-null  float64\n",
      " 6   households          20640 non-null  float64\n",
      " 7   median_income       20640 non-null  float64\n",
      " 8   median_house_value  20640 non-null  float64\n",
      " 9   ocean_proximity     20640 non-null  object \n",
      "dtypes: float64(9), object(1)\n",
      "memory usage: 1.6+ MB\n",
      "None\n",
      "longitude               0\n",
      "latitude                0\n",
      "housing_median_age      0\n",
      "total_rooms             0\n",
      "total_bedrooms        207\n",
      "population              0\n",
      "households              0\n",
      "median_income           0\n",
      "median_house_value      0\n",
      "ocean_proximity         0\n",
      "dtype: int64\n"
     ]
    }
   ],
   "source": [
    "# Question 3\n",
    "print(data.info())\n",
    "print(data.isnull().sum())"
   ]
  },
  {
   "cell_type": "code",
   "execution_count": 7,
   "metadata": {},
   "outputs": [
    {
     "data": {
      "text/plain": [
       "array(['NEAR BAY', '<1H OCEAN', 'INLAND', 'NEAR OCEAN', 'ISLAND'],\n",
       "      dtype=object)"
      ]
     },
     "execution_count": 7,
     "metadata": {},
     "output_type": "execute_result"
    }
   ],
   "source": [
    "# Question 4\n",
    "data['ocean_proximity'].unique()"
   ]
  },
  {
   "cell_type": "code",
   "execution_count": 11,
   "metadata": {},
   "outputs": [
    {
     "data": {
      "text/html": [
       "<div>\n",
       "<style scoped>\n",
       "    .dataframe tbody tr th:only-of-type {\n",
       "        vertical-align: middle;\n",
       "    }\n",
       "\n",
       "    .dataframe tbody tr th {\n",
       "        vertical-align: top;\n",
       "    }\n",
       "\n",
       "    .dataframe thead th {\n",
       "        text-align: right;\n",
       "    }\n",
       "</style>\n",
       "<table border=\"1\" class=\"dataframe\">\n",
       "  <thead>\n",
       "    <tr style=\"text-align: right;\">\n",
       "      <th></th>\n",
       "      <th>longitude</th>\n",
       "      <th>latitude</th>\n",
       "      <th>housing_median_age</th>\n",
       "      <th>total_rooms</th>\n",
       "      <th>total_bedrooms</th>\n",
       "      <th>population</th>\n",
       "      <th>households</th>\n",
       "      <th>median_income</th>\n",
       "      <th>median_house_value</th>\n",
       "    </tr>\n",
       "  </thead>\n",
       "  <tbody>\n",
       "    <tr>\n",
       "      <th>count</th>\n",
       "      <td>2290.000000</td>\n",
       "      <td>2290.000000</td>\n",
       "      <td>2290.000000</td>\n",
       "      <td>2290.000000</td>\n",
       "      <td>2270.000000</td>\n",
       "      <td>2290.000000</td>\n",
       "      <td>2290.000000</td>\n",
       "      <td>2290.000000</td>\n",
       "      <td>2290.000000</td>\n",
       "    </tr>\n",
       "    <tr>\n",
       "      <th>mean</th>\n",
       "      <td>-122.260694</td>\n",
       "      <td>37.801057</td>\n",
       "      <td>37.730131</td>\n",
       "      <td>2493.589520</td>\n",
       "      <td>514.182819</td>\n",
       "      <td>1230.317467</td>\n",
       "      <td>488.616157</td>\n",
       "      <td>4.172885</td>\n",
       "      <td>259212.311790</td>\n",
       "    </tr>\n",
       "    <tr>\n",
       "      <th>std</th>\n",
       "      <td>0.147004</td>\n",
       "      <td>0.185434</td>\n",
       "      <td>13.070385</td>\n",
       "      <td>1830.817022</td>\n",
       "      <td>367.887605</td>\n",
       "      <td>885.899035</td>\n",
       "      <td>350.598369</td>\n",
       "      <td>2.017427</td>\n",
       "      <td>122818.537064</td>\n",
       "    </tr>\n",
       "    <tr>\n",
       "      <th>min</th>\n",
       "      <td>-122.590000</td>\n",
       "      <td>37.350000</td>\n",
       "      <td>2.000000</td>\n",
       "      <td>8.000000</td>\n",
       "      <td>1.000000</td>\n",
       "      <td>8.000000</td>\n",
       "      <td>1.000000</td>\n",
       "      <td>0.499900</td>\n",
       "      <td>22500.000000</td>\n",
       "    </tr>\n",
       "    <tr>\n",
       "      <th>25%</th>\n",
       "      <td>-122.410000</td>\n",
       "      <td>37.730000</td>\n",
       "      <td>29.000000</td>\n",
       "      <td>1431.250000</td>\n",
       "      <td>289.000000</td>\n",
       "      <td>718.250000</td>\n",
       "      <td>275.000000</td>\n",
       "      <td>2.834750</td>\n",
       "      <td>162500.000000</td>\n",
       "    </tr>\n",
       "    <tr>\n",
       "      <th>50%</th>\n",
       "      <td>-122.250000</td>\n",
       "      <td>37.790000</td>\n",
       "      <td>39.000000</td>\n",
       "      <td>2083.000000</td>\n",
       "      <td>423.000000</td>\n",
       "      <td>1033.500000</td>\n",
       "      <td>406.000000</td>\n",
       "      <td>3.818650</td>\n",
       "      <td>233800.000000</td>\n",
       "    </tr>\n",
       "    <tr>\n",
       "      <th>75%</th>\n",
       "      <td>-122.140000</td>\n",
       "      <td>37.907500</td>\n",
       "      <td>52.000000</td>\n",
       "      <td>3029.750000</td>\n",
       "      <td>628.750000</td>\n",
       "      <td>1495.000000</td>\n",
       "      <td>599.250000</td>\n",
       "      <td>5.054425</td>\n",
       "      <td>345700.000000</td>\n",
       "    </tr>\n",
       "    <tr>\n",
       "      <th>max</th>\n",
       "      <td>-122.010000</td>\n",
       "      <td>38.340000</td>\n",
       "      <td>52.000000</td>\n",
       "      <td>18634.000000</td>\n",
       "      <td>3226.000000</td>\n",
       "      <td>8276.000000</td>\n",
       "      <td>3589.000000</td>\n",
       "      <td>15.000100</td>\n",
       "      <td>500001.000000</td>\n",
       "    </tr>\n",
       "  </tbody>\n",
       "</table>\n",
       "</div>"
      ],
      "text/plain": [
       "         longitude     latitude  housing_median_age   total_rooms  \\\n",
       "count  2290.000000  2290.000000         2290.000000   2290.000000   \n",
       "mean   -122.260694    37.801057           37.730131   2493.589520   \n",
       "std       0.147004     0.185434           13.070385   1830.817022   \n",
       "min    -122.590000    37.350000            2.000000      8.000000   \n",
       "25%    -122.410000    37.730000           29.000000   1431.250000   \n",
       "50%    -122.250000    37.790000           39.000000   2083.000000   \n",
       "75%    -122.140000    37.907500           52.000000   3029.750000   \n",
       "max    -122.010000    38.340000           52.000000  18634.000000   \n",
       "\n",
       "       total_bedrooms   population   households  median_income  \\\n",
       "count     2270.000000  2290.000000  2290.000000    2290.000000   \n",
       "mean       514.182819  1230.317467   488.616157       4.172885   \n",
       "std        367.887605   885.899035   350.598369       2.017427   \n",
       "min          1.000000     8.000000     1.000000       0.499900   \n",
       "25%        289.000000   718.250000   275.000000       2.834750   \n",
       "50%        423.000000  1033.500000   406.000000       3.818650   \n",
       "75%        628.750000  1495.000000   599.250000       5.054425   \n",
       "max       3226.000000  8276.000000  3589.000000      15.000100   \n",
       "\n",
       "       median_house_value  \n",
       "count         2290.000000  \n",
       "mean        259212.311790  \n",
       "std         122818.537064  \n",
       "min          22500.000000  \n",
       "25%         162500.000000  \n",
       "50%         233800.000000  \n",
       "75%         345700.000000  \n",
       "max         500001.000000  "
      ]
     },
     "execution_count": 11,
     "metadata": {},
     "output_type": "execute_result"
    }
   ],
   "source": [
    "# Question 5\n",
    "data[\n",
    "    data['ocean_proximity'] == 'NEAR BAY'\n",
    "].describe()"
   ]
  },
  {
   "cell_type": "code",
   "execution_count": 17,
   "metadata": {},
   "outputs": [
    {
     "name": "stdout",
     "output_type": "stream",
     "text": [
      "count    20433.000000\n",
      "mean       537.870553\n",
      "std        421.385070\n",
      "min          1.000000\n",
      "25%        296.000000\n",
      "50%        435.000000\n",
      "75%        647.000000\n",
      "max       6445.000000\n",
      "Name: total_bedrooms, dtype: float64\n"
     ]
    }
   ],
   "source": [
    "# Question 6\n",
    "print(data['total_bedrooms'].describe())\n",
    "data['total_bedrooms'].fillna(data['total_bedrooms'].mean(), inplace=True)"
   ]
  },
  {
   "cell_type": "code",
   "execution_count": 19,
   "metadata": {},
   "outputs": [
    {
     "name": "stdout",
     "output_type": "stream",
     "text": [
      "count    20640.000000\n",
      "mean       537.870553\n",
      "std        419.266592\n",
      "min          1.000000\n",
      "25%        297.000000\n",
      "50%        438.000000\n",
      "75%        643.250000\n",
      "max       6445.000000\n",
      "Name: total_bedrooms, dtype: float64\n",
      "0\n"
     ]
    }
   ],
   "source": [
    "print(data['total_bedrooms'].describe())\n",
    "print(data['total_bedrooms'].isnull().sum())\n",
    "# The mean value does not change after filling the missing values"
   ]
  },
  {
   "cell_type": "code",
   "execution_count": 33,
   "metadata": {},
   "outputs": [
    {
     "name": "stdout",
     "output_type": "stream",
     "text": [
      "[23.12330961 -1.48124183  5.69922946]\n",
      "5.699229455065586\n"
     ]
    }
   ],
   "source": [
    "# Question 7\n",
    "island = data[data['ocean_proximity'] == 'ISLAND']\n",
    "x = island[['housing_median_age', 'total_rooms', 'total_bedrooms']]\n",
    "xtx = np.dot(x.T, x)\n",
    "xtx_inv = np.linalg.inv(xtx)\n",
    "y = [950, 1300, 800, 1000, 1300]\n",
    "w = np.dot(np.dot(xtx_inv, x.T), y)\n",
    "print(w)\n",
    "print(w[-1])"
   ]
  }
 ],
 "metadata": {
  "kernelspec": {
   "display_name": "Python 3",
   "language": "python",
   "name": "python3"
  },
  "language_info": {
   "codemirror_mode": {
    "name": "ipython",
    "version": 3
   },
   "file_extension": ".py",
   "mimetype": "text/x-python",
   "name": "python",
   "nbconvert_exporter": "python",
   "pygments_lexer": "ipython3",
   "version": "3.11.4"
  },
  "orig_nbformat": 4
 },
 "nbformat": 4,
 "nbformat_minor": 2
}
