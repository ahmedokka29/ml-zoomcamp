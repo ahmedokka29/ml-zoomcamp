{
  "cells": [
    {
      "cell_type": "code",
      "execution_count": null,
      "metadata": {
        "id": "q97-uVaaTa2o"
      },
      "outputs": [],
      "source": [
        "# !wget https://github.com/SVizor42/ML_Zoomcamp/releases/download/bee-wasp-data/data.zip\n",
        "# !unzip data.zip"
      ]
    },
    {
      "cell_type": "code",
      "execution_count": 2,
      "metadata": {
        "id": "D07UXcgTb2k5"
      },
      "outputs": [],
      "source": [
        "import numpy as np\n",
        "import pandas as pd\n",
        "import matplotlib.pyplot as plt\n",
        "\n",
        "import tensorflow as tf\n",
        "from tensorflow import keras\n",
        "from keras.layers import Conv2D\n",
        "from keras.layers import MaxPooling2D\n",
        "from keras.layers import Dense\n",
        "from keras.layers import Flatten\n",
        "\n",
        "from tensorflow.keras.preprocessing.image import load_img\n",
        "from tensorflow.keras.preprocessing.image import ImageDataGenerator\n",
        "\n",
        "np.random.seed(42)\n",
        "tf.random.set_seed(42)"
      ]
    },
    {
      "cell_type": "code",
      "execution_count": 3,
      "metadata": {
        "id": "xI0BY8nLb2k7"
      },
      "outputs": [],
      "source": [
        "input_shape = (150, 150, 3)\n",
        "kernel_size =  (3, 3)\n",
        "filters = 32\n",
        "pooling_size = (2, 2)\n",
        "relu = 'relu'\n",
        "learning_rate = 0.01\n",
        "\n",
        "def make_model():\n",
        "    inputs = tf.keras.Input(shape = input_shape)\n",
        "    conv2d = Conv2D(filters=filters,kernel_size=kernel_size,activation=relu)(inputs)\n",
        "    vectors = MaxPooling2D(pool_size=pooling_size)(conv2d)\n",
        "    flatten = Flatten()(vectors)\n",
        "    dense64 = Dense(64,activation=relu)(flatten)\n",
        "    outputs = Dense(1,activation='sigmoid')(dense64)\n",
        "    model = tf.keras.Model(inputs , outputs)\n",
        "\n",
        "    optimizer = tf.keras.optimizers.SGD(learning_rate=0.002, momentum=0.8)\n",
        "    loss = tf.keras.losses.BinaryCrossentropy(from_logits=False)\n",
        "\n",
        "    model.compile(optimizer=optimizer,loss=loss,metrics=['accuracy'])\n",
        "\n",
        "    return model"
      ]
    },
    {
      "cell_type": "markdown",
      "source": [
        "Question 1\n",
        "\n",
        "Since we have a binary classification problem, what is the best loss function for us?\n",
        "\n",
        "- `mean squared error`\n",
        "- **binary crossentropy**\n",
        "- `categorical crossentropy`\n",
        "- `cosine similarity`"
      ],
      "metadata": {
        "id": "gEO_tzsFcYH0"
      }
    },
    {
      "cell_type": "markdown",
      "metadata": {
        "id": "0orU9kRhb2k7"
      },
      "source": [
        "Question 2\n",
        "\n",
        "What's the number of parameters in the convolutional layer of our model? You can use the summary method for that.\n",
        "\n",
        "- 1\n",
        "- 65\n",
        "- **896**\n",
        "- 11214912"
      ]
    },
    {
      "cell_type": "code",
      "execution_count": 4,
      "metadata": {
        "colab": {
          "base_uri": "https://localhost:8080/"
        },
        "id": "nc1srdMfb2k9",
        "outputId": "35a4c8c2-0d19-4cd2-b56d-6f6b80420646"
      },
      "outputs": [
        {
          "output_type": "stream",
          "name": "stdout",
          "text": [
            "Model: \"model\"\n",
            "_________________________________________________________________\n",
            " Layer (type)                Output Shape              Param #   \n",
            "=================================================================\n",
            " input_1 (InputLayer)        [(None, 150, 150, 3)]     0         \n",
            "                                                                 \n",
            " conv2d (Conv2D)             (None, 148, 148, 32)      896       \n",
            "                                                                 \n",
            " max_pooling2d (MaxPooling2  (None, 74, 74, 32)        0         \n",
            " D)                                                              \n",
            "                                                                 \n",
            " flatten (Flatten)           (None, 175232)            0         \n",
            "                                                                 \n",
            " dense (Dense)               (None, 64)                11214912  \n",
            "                                                                 \n",
            " dense_1 (Dense)             (None, 1)                 65        \n",
            "                                                                 \n",
            "=================================================================\n",
            "Total params: 11215873 (42.79 MB)\n",
            "Trainable params: 11215873 (42.79 MB)\n",
            "Non-trainable params: 0 (0.00 Byte)\n",
            "_________________________________________________________________\n"
          ]
        }
      ],
      "source": [
        "model = make_model()\n",
        "model.summary()"
      ]
    },
    {
      "cell_type": "code",
      "execution_count": 5,
      "metadata": {
        "colab": {
          "base_uri": "https://localhost:8080/"
        },
        "id": "FJtSLEJWb2k_",
        "outputId": "1282a162-57d6-48aa-9824-704cf8dd4fcd"
      },
      "outputs": [
        {
          "output_type": "stream",
          "name": "stdout",
          "text": [
            "Found 3677 images belonging to 2 classes.\n",
            "Found 918 images belonging to 2 classes.\n"
          ]
        }
      ],
      "source": [
        "train_gen = ImageDataGenerator(rescale=1./255)\n",
        "test_gen = ImageDataGenerator(rescale=1./255)\n",
        "\n",
        "train_generator = train_gen.flow_from_directory('./data/train/', target_size=(150,150),class_mode='binary', batch_size=20,shuffle=True)\n",
        "test_generator = test_gen.flow_from_directory('./data/test/', target_size=(150,150),class_mode='binary', batch_size=20,shuffle=True)"
      ]
    },
    {
      "cell_type": "code",
      "execution_count": 6,
      "metadata": {
        "colab": {
          "base_uri": "https://localhost:8080/"
        },
        "id": "q-Vtp0hKb2k_",
        "outputId": "4480af9c-1926-4a90-80f5-5a1c80e7ce3b"
      },
      "outputs": [
        {
          "output_type": "execute_result",
          "data": {
            "text/plain": [
              "{'bee': 0, 'wasp': 1}"
            ]
          },
          "metadata": {},
          "execution_count": 6
        }
      ],
      "source": [
        "train_generator.class_indices"
      ]
    },
    {
      "cell_type": "code",
      "execution_count": 7,
      "metadata": {
        "colab": {
          "base_uri": "https://localhost:8080/"
        },
        "id": "60MPZcDFb2lA",
        "outputId": "227e0bbf-d76e-45eb-98c1-c9200b1239f5"
      },
      "outputs": [
        {
          "output_type": "stream",
          "name": "stdout",
          "text": [
            "Epoch 1/10\n",
            "184/184 [==============================] - 19s 48ms/step - loss: 0.6789 - accuracy: 0.5480 - val_loss: 0.6388 - val_accuracy: 0.6492\n",
            "Epoch 2/10\n",
            "184/184 [==============================] - 8s 41ms/step - loss: 0.6432 - accuracy: 0.6144 - val_loss: 0.6037 - val_accuracy: 0.6394\n",
            "Epoch 3/10\n",
            "184/184 [==============================] - 9s 47ms/step - loss: 0.5923 - accuracy: 0.6802 - val_loss: 0.5664 - val_accuracy: 0.6928\n",
            "Epoch 4/10\n",
            "184/184 [==============================] - 7s 39ms/step - loss: 0.5509 - accuracy: 0.7229 - val_loss: 0.5658 - val_accuracy: 0.6928\n",
            "Epoch 5/10\n",
            "184/184 [==============================] - 9s 48ms/step - loss: 0.5165 - accuracy: 0.7531 - val_loss: 0.5345 - val_accuracy: 0.7233\n",
            "Epoch 6/10\n",
            "184/184 [==============================] - 7s 38ms/step - loss: 0.4905 - accuracy: 0.7754 - val_loss: 0.5396 - val_accuracy: 0.7331\n",
            "Epoch 7/10\n",
            "184/184 [==============================] - 9s 52ms/step - loss: 0.4653 - accuracy: 0.7914 - val_loss: 0.5036 - val_accuracy: 0.7538\n",
            "Epoch 8/10\n",
            "184/184 [==============================] - 8s 42ms/step - loss: 0.4468 - accuracy: 0.8047 - val_loss: 0.5253 - val_accuracy: 0.7364\n",
            "Epoch 9/10\n",
            "184/184 [==============================] - 7s 38ms/step - loss: 0.4273 - accuracy: 0.8156 - val_loss: 0.5314 - val_accuracy: 0.7397\n",
            "Epoch 10/10\n",
            "184/184 [==============================] - 8s 41ms/step - loss: 0.4047 - accuracy: 0.8183 - val_loss: 0.5040 - val_accuracy: 0.7691\n"
          ]
        }
      ],
      "source": [
        "history = model.fit(\n",
        "    train_generator,\n",
        "    epochs=10,\n",
        "    validation_data=test_generator\n",
        ")"
      ]
    },
    {
      "cell_type": "markdown",
      "metadata": {
        "id": "Vp4AFiFeb2lB"
      },
      "source": [
        "Question 3\n",
        "\n",
        "What is the median of training accuracy for all the epochs for this model?\n",
        "\n",
        "- 0.20\n",
        "- 0.40\n",
        "- 0.60\n",
        "- **0.80**"
      ]
    },
    {
      "cell_type": "code",
      "execution_count": 8,
      "metadata": {
        "colab": {
          "base_uri": "https://localhost:8080/"
        },
        "id": "I1JcJhb8b2lC",
        "outputId": "c9d6c983-efb2-4ff1-9c2b-0f2dcc14647a"
      },
      "outputs": [
        {
          "output_type": "execute_result",
          "data": {
            "text/plain": [
              "0.7642099559307098"
            ]
          },
          "metadata": {},
          "execution_count": 8
        }
      ],
      "source": [
        "np.median(history.history['accuracy'])"
      ]
    },
    {
      "cell_type": "markdown",
      "metadata": {
        "id": "6FrW_iI5b2lD"
      },
      "source": [
        "Question 4\n",
        "\n",
        "What is the standard deviation of training loss for all the epochs for this model?\n",
        "\n",
        "- 0.031\n",
        "- 0.061\n",
        "- **0.091**\n",
        "- 0.131"
      ]
    },
    {
      "cell_type": "code",
      "execution_count": 9,
      "metadata": {
        "colab": {
          "base_uri": "https://localhost:8080/"
        },
        "id": "z8r8jz_Gb2lD",
        "outputId": "d18e0491-3bb7-470b-fdf8-57afc4ca9801"
      },
      "outputs": [
        {
          "output_type": "execute_result",
          "data": {
            "text/plain": [
              "0.08813254056231913"
            ]
          },
          "metadata": {},
          "execution_count": 9
        }
      ],
      "source": [
        "np.std(history.history['loss'])"
      ]
    },
    {
      "cell_type": "code",
      "source": [
        "gen_transformed = ImageDataGenerator(rescale=1./255,\n",
        "                                     rotation_range=50,\n",
        "                                     width_shift_range=0.1,\n",
        "                                     height_shift_range=0.1,\n",
        "                                     zoom_range=0.1,\n",
        "                                     horizontal_flip=True,\n",
        "                                     fill_mode='nearest')\n",
        "\n",
        "train_generator = train_gen.flow_from_directory('./data/train/', target_size=(150,150),class_mode='binary', batch_size=20,shuffle=True)\n",
        "test_generator = test_gen.flow_from_directory('./data/test/', target_size=(150,150),class_mode='binary', batch_size=20,shuffle=True)"
      ],
      "metadata": {
        "colab": {
          "base_uri": "https://localhost:8080/"
        },
        "id": "4PMPcJ6Oo1rG",
        "outputId": "603cd8d5-0e92-4e7a-da34-63a8ffd0fc4e"
      },
      "execution_count": 10,
      "outputs": [
        {
          "output_type": "stream",
          "name": "stdout",
          "text": [
            "Found 3677 images belonging to 2 classes.\n",
            "Found 918 images belonging to 2 classes.\n"
          ]
        }
      ]
    },
    {
      "cell_type": "code",
      "source": [
        "history = model.fit(\n",
        "    train_generator,\n",
        "    epochs=10,\n",
        "    validation_data=test_generator\n",
        ")"
      ],
      "metadata": {
        "colab": {
          "base_uri": "https://localhost:8080/"
        },
        "id": "0X4aa_CYq04d",
        "outputId": "ae747d0f-6339-4db7-9dc6-8b49f242e79a"
      },
      "execution_count": 11,
      "outputs": [
        {
          "output_type": "stream",
          "name": "stdout",
          "text": [
            "Epoch 1/10\n",
            "184/184 [==============================] - 9s 48ms/step - loss: 0.3733 - accuracy: 0.8463 - val_loss: 0.5553 - val_accuracy: 0.7397\n",
            "Epoch 2/10\n",
            "184/184 [==============================] - 15s 82ms/step - loss: 0.3417 - accuracy: 0.8618 - val_loss: 0.5214 - val_accuracy: 0.7702\n",
            "Epoch 3/10\n",
            "184/184 [==============================] - 8s 44ms/step - loss: 0.3141 - accuracy: 0.8768 - val_loss: 0.5061 - val_accuracy: 0.7767\n",
            "Epoch 4/10\n",
            "184/184 [==============================] - 9s 48ms/step - loss: 0.2700 - accuracy: 0.8986 - val_loss: 0.5169 - val_accuracy: 0.7734\n",
            "Epoch 5/10\n",
            "184/184 [==============================] - 8s 44ms/step - loss: 0.2412 - accuracy: 0.9171 - val_loss: 0.6206 - val_accuracy: 0.7440\n",
            "Epoch 6/10\n",
            "184/184 [==============================] - 8s 45ms/step - loss: 0.2126 - accuracy: 0.9271 - val_loss: 0.5736 - val_accuracy: 0.7636\n",
            "Epoch 7/10\n",
            "184/184 [==============================] - 8s 45ms/step - loss: 0.1756 - accuracy: 0.9491 - val_loss: 0.6012 - val_accuracy: 0.7560\n",
            "Epoch 8/10\n",
            "184/184 [==============================] - 7s 39ms/step - loss: 0.1523 - accuracy: 0.9538 - val_loss: 0.6142 - val_accuracy: 0.7636\n",
            "Epoch 9/10\n",
            "184/184 [==============================] - 9s 47ms/step - loss: 0.1344 - accuracy: 0.9660 - val_loss: 0.7185 - val_accuracy: 0.7473\n",
            "Epoch 10/10\n",
            "184/184 [==============================] - 7s 39ms/step - loss: 0.1021 - accuracy: 0.9785 - val_loss: 0.6507 - val_accuracy: 0.7680\n"
          ]
        }
      ]
    },
    {
      "cell_type": "markdown",
      "metadata": {
        "id": "Z1Q9GuNCb2lD"
      },
      "source": [
        "Question 5\n",
        "\n",
        "Let's train our model for 10 more epochs using the same code as previously.\n",
        "\n",
        "`Note: make sure you don't re-create the model - we want to continue training the model we already started training.`\n",
        "\n",
        "What is the mean of test loss for all the epochs for the model trained with augmentations?\n",
        "\n",
        "- 0.18\n",
        "- **0.48**\n",
        "- 0.78\n",
        "- 0.108"
      ]
    },
    {
      "cell_type": "code",
      "source": [
        "np.mean(history.history['val_loss'])"
      ],
      "metadata": {
        "colab": {
          "base_uri": "https://localhost:8080/"
        },
        "id": "uSgldUdfr6qi",
        "outputId": "55806a84-3a39-4b71-ddd1-8708d9b23099"
      },
      "execution_count": 12,
      "outputs": [
        {
          "output_type": "execute_result",
          "data": {
            "text/plain": [
              "0.5878636956214904"
            ]
          },
          "metadata": {},
          "execution_count": 12
        }
      ]
    },
    {
      "cell_type": "markdown",
      "metadata": {
        "id": "7Lx0Arupb2lD"
      },
      "source": [
        "Question 6\n",
        "\n",
        "What's the average of test accuracy for the last 5 epochs (from 6 to 10) for the model trained with augmentations?\n",
        "\n",
        "- 0.38\n",
        "- 0.58\n",
        "- **0.78**\n",
        "- 0.98"
      ]
    },
    {
      "cell_type": "code",
      "source": [
        "np.average(history.history['val_accuracy'][5:])"
      ],
      "metadata": {
        "colab": {
          "base_uri": "https://localhost:8080/"
        },
        "id": "2ziKaFghsQH-",
        "outputId": "0272de3f-00fa-4538-d3ff-04cd032a8f91"
      },
      "execution_count": 13,
      "outputs": [
        {
          "output_type": "execute_result",
          "data": {
            "text/plain": [
              "0.7596949815750123"
            ]
          },
          "metadata": {},
          "execution_count": 13
        }
      ]
    },
    {
      "cell_type": "code",
      "source": [],
      "metadata": {
        "id": "aQJknMlesTKr"
      },
      "execution_count": 13,
      "outputs": []
    }
  ],
  "metadata": {
    "colab": {
      "provenance": [],
      "gpuType": "T4"
    },
    "kernelspec": {
      "display_name": "Python 3",
      "name": "python3"
    },
    "language_info": {
      "codemirror_mode": {
        "name": "ipython",
        "version": 3
      },
      "file_extension": ".py",
      "mimetype": "text/x-python",
      "name": "python",
      "nbconvert_exporter": "python",
      "pygments_lexer": "ipython3",
      "version": "3.11.4"
    },
    "accelerator": "GPU"
  },
  "nbformat": 4,
  "nbformat_minor": 0
}