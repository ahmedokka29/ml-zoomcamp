{
 "cells": [
  {
   "cell_type": "markdown",
   "metadata": {},
   "source": [
    "### Import Libraries"
   ]
  },
  {
   "cell_type": "code",
   "execution_count": null,
   "metadata": {},
   "outputs": [],
   "source": [
    "import pandas as pd\n",
    "import numpy as np\n",
    "import matplotlib.pyplot as plt\n",
    "import seaborn as sns\n",
    "\n",
    "from sklearn.model_selection import train_test_split,GridSearchCV,RepeatedStratifiedKFold, cross_val_score\n",
    "from sklearn.model_selection import KFold\n",
    "from sklearn.feature_extraction import DictVectorizer\n",
    "from sklearn.linear_model import LogisticRegression\n",
    "from sklearn.tree import DecisionTreeClassifier\n",
    "from sklearn.ensemble import RandomForestClassifier\n",
    "from sklearn.metrics import roc_auc_score\n",
    "from sklearn import metrics\n",
    "\n",
    "from tqdm.auto import tqdm\n",
    "import xgboost as xgb\n",
    "from xgboost import XGBClassifier\n"
   ]
  },
  {
   "cell_type": "markdown",
   "metadata": {},
   "source": [
    "### Data preparation and data clearning"
   ]
  },
  {
   "cell_type": "markdown",
   "metadata": {},
   "source": [
    "**Some observation:**\n",
    "\n",
    "According to the introduction of the competition, the data is interpreted as follows:\n",
    "- `id`: Unique identifier for each data point.\n",
    "- `age`: Age of the individual, categorized in 5-year intervals.\n",
    "- `height(cm)`: Height of the individual in centimeters.\n",
    "- `weight(kg)`: Weight of the individual in kilograms.\n",
    "- `waist(cm)`: Waist circumference of the individual in centimeters.\n",
    "- `eyesight(left/right)`: Eyesight measurements for the left and right eyes.\n",
    "- `hearing(left/right)`: Hearing ability for the left and right ears, represented as binary.\n",
    "- `systolic`: Systolic blood pressure measurement.\n",
    "- `relaxation`: Diastolic blood pressure measurement.\n",
    "- `fasting blood sugar`: Fasting blood sugar level.\n",
    "- `Cholesterol`: Total cholesterol level.\n",
    "- `triglyceride`: Triglyceride level.\n",
    "- `HDL`: High-density lipoprotein cholesterol level.\n",
    "- `LDL`: Low-density lipoprotein cholesterol level.\n",
    "- `hemoglobin`: Hemoglobin level in the blood.\n",
    "- `Urine protein`: Level of protein in urine, categorized.\n",
    "- `serum creatinine`: Serum creatinine level.\n",
    "- `AST`: Level of aspartate aminotransferase enzyme.\n",
    "- `ALT`: Level of alanine aminotransferase enzyme.\n",
    "- `Gtp`: Level of gamma-glutamyl transferase enzyme.\n",
    "- `dental caries`: Presence (1) or absence (0) of dental cavities.\n",
    "- `smoking`: Target variable indicating if the individual is a smoker (1) or not (0)."
   ]
  },
  {
   "cell_type": "code",
   "execution_count": null,
   "metadata": {},
   "outputs": [],
   "source": [
    "df = pd.read_csv('smoker_train_dataset.csv')\n",
    "pg = pd.read_csv('train.csv') \n",
    "df.shape , pg.shape"
   ]
  },
  {
   "cell_type": "code",
   "execution_count": null,
   "metadata": {},
   "outputs": [],
   "source": [
    "df = pd.concat([pg, df])\n",
    "df.head()"
   ]
  },
  {
   "cell_type": "code",
   "execution_count": null,
   "metadata": {},
   "outputs": [],
   "source": [
    "df.drop(columns=['id'], inplace=True)"
   ]
  },
  {
   "cell_type": "code",
   "execution_count": null,
   "metadata": {},
   "outputs": [],
   "source": [
    "def summary(df):\n",
    "    sum = pd.DataFrame(df.dtypes, columns=['dtypes'])\n",
    "    sum['missing #'] = df.isna().sum()\n",
    "    sum['missing %'] = (df.isna().sum())/len(df)\n",
    "    sum['uniques'] = df.nunique().values\n",
    "    sum['count'] = df.count().values\n",
    "    return sum\n",
    "summary(df)"
   ]
  },
  {
   "cell_type": "markdown",
   "metadata": {},
   "source": [
    "### EDA, feature importance analysis\n"
   ]
  },
  {
   "cell_type": "code",
   "execution_count": null,
   "metadata": {},
   "outputs": [],
   "source": [
    "df.columns"
   ]
  },
  {
   "cell_type": "code",
   "execution_count": null,
   "metadata": {},
   "outputs": [],
   "source": [
    "target = ['smoking']\n",
    "discrete = ['age', 'height(cm)', 'weight(kg)', 'systolic', 'relaxation', \n",
    "           'fasting blood sugar', 'Cholesterol', 'triglyceride', 'HDL',\n",
    "           'LDL', 'AST', 'ALT', 'Gtp']\n",
    "continous = ['waist(cm)', 'eyesight(left)', 'eyesight(right)', 'hemoglobin',\n",
    "             'serum creatinine']\n",
    "binary = ['hearing(left)', 'hearing(right)', 'dental caries']\n",
    "nominal = ['Urine protein']\n",
    "\n",
    "num_var = discrete + continous\n"
   ]
  },
  {
   "cell_type": "code",
   "execution_count": null,
   "metadata": {},
   "outputs": [],
   "source": [
    "# for var in num_var:\n",
    "#     sns.histplot(data=df, x=var, kde=True)\n",
    "#     plt.title(f\"Distribution of {var}\")\n",
    "#     plt.show()   "
   ]
  },
  {
   "cell_type": "code",
   "execution_count": null,
   "metadata": {},
   "outputs": [],
   "source": [
    "df[num_var].describe().T"
   ]
  },
  {
   "cell_type": "code",
   "execution_count": null,
   "metadata": {},
   "outputs": [],
   "source": [
    "cat_var = target + binary + nominal\n",
    "\n",
    "for var in cat_var:\n",
    "    sns.countplot(data=df, x=var)\n",
    "    plt.title(f\"Count of {var}\")\n",
    "    plt.show()  "
   ]
  },
  {
   "cell_type": "code",
   "execution_count": null,
   "metadata": {},
   "outputs": [],
   "source": [
    "selected_var = ['age', 'relaxation', 'systolic', 'hemoglobin', 'Gtp', 'ALT', 'AST', 'LDL', 'HDL', 'Cholesterol', 'eyesight(right)', 'eyesight(left)']\n",
    "for var in selected_var:\n",
    "    sns.kdeplot(data=df, x=var, hue=target[0])\n",
    "    plt.title(f\"Distribution of {var} for smokers v. non-smokers\")\n",
    "    plt.show()   "
   ]
  },
  {
   "cell_type": "code",
   "execution_count": null,
   "metadata": {},
   "outputs": [],
   "source": [
    "corr_matrix = df[num_var].corr()\n",
    "mask = np.triu(np.ones_like(corr_matrix, dtype=bool))\n",
    "\n",
    "plt.figure(figsize=(15, 12))\n",
    "sns.heatmap(corr_matrix, mask=mask, annot=True, cmap='Blues',  fmt='.2f', linewidths=2 )\n",
    "\n",
    "plt.title('Correlation Matrix', fontsize=15)\n",
    "plt.show()"
   ]
  },
  {
   "cell_type": "markdown",
   "metadata": {},
   "source": [
    "Since the correlation values between any two variables is not greater than 90%, none of the attributes were removed.\n",
    "\n"
   ]
  },
  {
   "cell_type": "code",
   "execution_count": null,
   "metadata": {},
   "outputs": [],
   "source": [
    "df['bmi'] = df['weight(kg)'] / (df['height(cm)'] / 100) ** 2\n",
    "features = list(df.columns)\n",
    "features.pop(-2)"
   ]
  },
  {
   "cell_type": "markdown",
   "metadata": {},
   "source": [
    "### Model selection process and parameter tuning"
   ]
  },
  {
   "cell_type": "code",
   "execution_count": null,
   "metadata": {},
   "outputs": [],
   "source": [
    "df_train_full, df_test = train_test_split(df, test_size=0.2, random_state=1)\n",
    "df_train, df_val = train_test_split(df_train_full, test_size=0.25, random_state=1)\n",
    "\n",
    "full_train = df_train_full.copy()\n",
    "df_train = df_train.reset_index(drop=True)\n",
    "df_val = df_val.reset_index(drop=True)\n",
    "df_test = df_test.reset_index(drop=True)\n",
    "\n",
    "y_train_full = df_train_full.smoking.values\n",
    "y_train = df_train.smoking.values\n",
    "y_val = df_val.smoking.values\n",
    "y_test = df_test.smoking.values\n",
    "\n",
    "del full_train['smoking']\n",
    "del df_train['smoking']\n",
    "del df_val['smoking']\n",
    "del df_test['smoking']\n",
    "\n",
    "X = df.drop(columns = ['smoking'], axis = 1)\n",
    "Y = df['smoking']"
   ]
  },
  {
   "cell_type": "code",
   "execution_count": null,
   "metadata": {},
   "outputs": [],
   "source": [
    "kfold = KFold(n_splits=5, shuffle=True, random_state=1)\n",
    "\n",
    "def graph_roc(y,y_pred):\n",
    "    fpr , tpr , thresholds = metrics.roc_curve(y, y_pred)\n",
    "    plt.figure(figsize=(5, 5))\n",
    "    plt.plot(fpr, tpr,label='Model')\n",
    "    plt.plot([0, 1], [0, 1],label='Random', linestyle='--')\n",
    "    plt.xlabel('False Positive Rate')\n",
    "    plt.ylabel('True Positive Rate')\n",
    "    plt.title('ROC curve')\n",
    "    plt.show()\n",
    "    # print(metrics.auc(fpr, tpr))\n",
    "\n",
    "\n",
    "def met(y,y_pred,above_average):\n",
    "    print('Model Accuracy:',round(metrics.accuracy_score(y, above_average),4))\n",
    "    print('ROC:',round(roc_auc_score(y, y_pred),4))\n",
    "    print((metrics.confusion_matrix(y, above_average)/metrics.confusion_matrix(y, above_average).sum()).round(4))\n"
   ]
  },
  {
   "cell_type": "markdown",
   "metadata": {},
   "source": [
    "#### Logistic Regression"
   ]
  },
  {
   "cell_type": "code",
   "execution_count": null,
   "metadata": {},
   "outputs": [],
   "source": [
    "def train(df, y,  c=1.0):\n",
    "    model = LogisticRegression(solver='liblinear', C=c, max_iter=1000, random_state=1)\n",
    "    model.fit(df, y)      \n",
    "    return model\n",
    "\n",
    "def predict(df,model):\n",
    "    y_pred = model.predict_proba(df)[:, 1]    \n",
    "    return y_pred\n",
    "\n",
    "model = train(df_train, y_train)\n",
    "y_pred = predict(df_val,model)\n",
    "above_average = (y_pred >= 0.5)\n",
    "met(y_val,y_pred,above_average)\n",
    "graph_roc(y_val,y_pred)"
   ]
  },
  {
   "cell_type": "markdown",
   "metadata": {},
   "source": [
    "Determine best C for logistic regression"
   ]
  },
  {
   "cell_type": "code",
   "execution_count": null,
   "metadata": {},
   "outputs": [],
   "source": [
    "n_splits = 5\n",
    "kfold = KFold(n_splits=n_splits, shuffle=True, random_state=1)\n",
    "skf = RepeatedStratifiedKFold(n_splits = 10, n_repeats = 1, random_state = 42)\n",
    "\n",
    "for c in tqdm([0.01, 0.1, 1.0 , 0.5, 10,15]):\n",
    "\n",
    "    scores = []\n",
    "\n",
    "    for train_idx ,val_idx in kfold.split(df_train_full):\n",
    "        df_train = df_train_full.iloc[train_idx]\n",
    "        df_val = df_train_full.iloc[val_idx]\n",
    "\n",
    "        y_train = df_train.smoking.values\n",
    "        y_val = df_val.smoking.values\n",
    "        \n",
    "        del df_train['smoking']\n",
    "        del df_val['smoking']\n",
    "        \n",
    "        model = train(df_train,y_train,c)\n",
    "        y_pred = predict(df_val,model)\n",
    "\n",
    "        roc_auc = metrics.roc_auc_score(y_val,y_pred)\n",
    "        scores.append(roc_auc)\n",
    "\n",
    "    print('C=%s %f +- %f' % (c,np.mean(scores),np.std(scores)))"
   ]
  },
  {
   "cell_type": "code",
   "execution_count": null,
   "metadata": {},
   "outputs": [],
   "source": [
    "model = train(df_train, y_train,1.0)\n",
    "y_pred = predict(df_val,model)\n",
    "above_average = (y_pred >= 0.5)\n",
    "met(y_val,y_pred,above_average)\n",
    "graph_roc(y_val,y_pred)"
   ]
  },
  {
   "cell_type": "markdown",
   "metadata": {},
   "source": [
    "Select C=1.0 as best tuning parameter for logistic regression\n",
    "\n",
    "C=1.0 0.827558 +- 0.002522\n"
   ]
  },
  {
   "cell_type": "markdown",
   "metadata": {},
   "source": [
    "#### Random Forest"
   ]
  },
  {
   "cell_type": "code",
   "execution_count": null,
   "metadata": {},
   "outputs": [],
   "source": [
    "rf = RandomForestClassifier(random_state=29)\n",
    "rf.fit(df_train, y_train)"
   ]
  },
  {
   "cell_type": "code",
   "execution_count": null,
   "metadata": {},
   "outputs": [],
   "source": [
    "y_pred = rf.predict_proba(df_val)[:, 1]\n",
    "above_average = (y_pred >= 0.5)\n",
    "met(y_val,y_pred,above_average)\n",
    "graph_roc(y_val,y_pred)"
   ]
  },
  {
   "cell_type": "code",
   "execution_count": null,
   "metadata": {},
   "outputs": [],
   "source": [
    "rf.get_params()"
   ]
  },
  {
   "cell_type": "markdown",
   "metadata": {},
   "source": [
    "The untuned RF has an accuracy of 86.05% on the validation dataset."
   ]
  },
  {
   "cell_type": "code",
   "execution_count": null,
   "metadata": {},
   "outputs": [],
   "source": [
    "n_estimators = [100,150, 200,250, 300,350]\n",
    "max_depth =  [10,15,20,25,30,35]\n",
    "all_scores =[]\n",
    "for m in max_depth:\n",
    "    for n in n_estimators:\n",
    "        random_rf = RandomForestClassifier(n_estimators=n,max_depth=m,random_state=29,n_jobs=-1)\n",
    "        random_rf.fit(full_train, y_train_full)\n",
    "        y_pred_rf = random_rf.predict_proba(df_val)[:, 1] \n",
    "        all_scores.append((m,n,metrics.roc_auc_score(y_val, y_pred_rf ),metrics.accuracy_score(y_val,y_pred_rf>=0.5)))"
   ]
  },
  {
   "cell_type": "code",
   "execution_count": null,
   "metadata": {},
   "outputs": [],
   "source": [
    "df_all_scores = pd.DataFrame(all_scores, columns=['max_depth','n_estimator','roc','acc'])\n",
    "df_all_scores.round(4).sort_values(by='acc',ascending=False)"
   ]
  },
  {
   "cell_type": "code",
   "execution_count": null,
   "metadata": {},
   "outputs": [],
   "source": [
    "roc_pivot = df_all_scores.pivot(index='max_depth', columns=['n_estimator'],values=['roc'])\n",
    "roc_pivot.round(4)\n",
    "plt.figure(figsize = (16,5))\n",
    "sns.heatmap(roc_pivot,annot=True,fmt='.3f')"
   ]
  },
  {
   "cell_type": "code",
   "execution_count": null,
   "metadata": {},
   "outputs": [],
   "source": [
    "acc_pivot = df_all_scores.pivot(index='max_depth', columns=['n_estimator'],values=['acc'])\n",
    "acc_pivot.round(4)\n",
    "plt.figure(figsize = (16,5))\n",
    "sns.heatmap(acc_pivot,annot=True,fmt='.3f')"
   ]
  },
  {
   "cell_type": "code",
   "execution_count": null,
   "metadata": {},
   "outputs": [],
   "source": [
    "rf = RandomForestClassifier(n_estimators=25,max_depth=200,random_state=29,n_jobs=-1)\n",
    "rf.fit(full_train, y_train_full)"
   ]
  },
  {
   "cell_type": "code",
   "execution_count": null,
   "metadata": {},
   "outputs": [],
   "source": [
    "rf_pred = rf.predict_proba(df_test)[:, 1] \n",
    "print(metrics.accuracy_score(y_test,rf_pred>=0.5))\n",
    "print(metrics.roc_auc_score(y_test,rf_pred))\n"
   ]
  },
  {
   "cell_type": "code",
   "execution_count": null,
   "metadata": {},
   "outputs": [],
   "source": [
    "importances = rf.feature_importances_\n",
    "feature_importances = pd.DataFrame({'Feature': features, 'Importance': importances})\n",
    "feature_importances.sort_values(by='Importance', ascending=False)"
   ]
  },
  {
   "cell_type": "markdown",
   "metadata": {},
   "source": [
    "#### XGboost"
   ]
  },
  {
   "cell_type": "code",
   "execution_count": null,
   "metadata": {},
   "outputs": [],
   "source": [
    "dtrain = xgb.DMatrix(df_train, label= y_train , feature_names = features)\n",
    "dval = xgb.DMatrix(df_val, label= y_val , feature_names = features)\n",
    "\n",
    "watchlist = [(dtrain,'train'),(dval,'val')]"
   ]
  },
  {
   "cell_type": "code",
   "execution_count": null,
   "metadata": {},
   "outputs": [],
   "source": [
    "xgb_scores = []\n",
    "\n",
    "for x in range(3,10):    \n",
    "    xgb_params = {\n",
    "        'eta': 0.1, \n",
    "        'max_depth': x,\n",
    "        'min_child_weight': 1,\n",
    "        'objective': 'binary:logistic',\n",
    "        'nthread': 8,\n",
    "        'eval_metric': 'auc',\n",
    "        'seed': 29,\n",
    "        'verbosity': 1,\n",
    "    }\n",
    "    xgb_model = xgb.train(xgb_params,dtrain,verbose_eval=5,evals=watchlist,num_boost_round=100)\n",
    "    y_pred = xgb_model.predict(dval)\n",
    "    xgb_scores.append((x,metrics.roc_auc_score(y_val, y_pred ),metrics.accuracy_score(y_val,y_pred>=0.5)))"
   ]
  },
  {
   "cell_type": "markdown",
   "metadata": {},
   "source": [
    "picking best parameters for xgboost \n",
    "\n",
    "max_depth = 6\n",
    "\n",
    "eta = 0.1"
   ]
  },
  {
   "cell_type": "code",
   "execution_count": null,
   "metadata": {},
   "outputs": [],
   "source": [
    "xgb_all_scores = pd.DataFrame(xgb_scores, columns=['max_depth','roc','acc'])\n",
    "xgb_all_scores.round(3).sort_values(by='roc',ascending=False)"
   ]
  },
  {
   "cell_type": "code",
   "execution_count": null,
   "metadata": {},
   "outputs": [],
   "source": [
    "xgb_all_scores.round(3).sort_values(by='acc',ascending=False)"
   ]
  },
  {
   "cell_type": "markdown",
   "metadata": {},
   "source": [
    "#### Picking XGboost to be less comples than Random Forest with the same performance."
   ]
  },
  {
   "cell_type": "code",
   "execution_count": null,
   "metadata": {},
   "outputs": [],
   "source": [
    "# XGB_cv_routine = cross_val_score(XGBClassifier(tree_method='hist',\n",
    "#                                                n_estimators=600,\n",
    "#                                                learning_rate=0.1,\n",
    "#                                                colsample_bytree=0.5),\n",
    "#                                  X,\n",
    "#                                  Y,\n",
    "#                                  scoring='roc_auc',\n",
    "#                                  cv=skf,\n",
    "#                                  n_jobs=-1)\n",
    "\n",
    "# print(\n",
    "#     f\"The average oof ROC-AUC score of the XGB model is {XGB_cv_routine.mean()}\")"
   ]
  },
  {
   "cell_type": "code",
   "execution_count": 33,
   "metadata": {},
   "outputs": [
    {
     "data": {
      "text/plain": [
       "'{\"age\":{\"38983\":55},\"height(cm)\":{\"38983\":175},\"weight(kg)\":{\"38983\":60},\"waist(cm)\":{\"38983\":81.1},\"eyesight(left)\":{\"38983\":1.0},\"eyesight(right)\":{\"38983\":1.0},\"hearing(left)\":{\"38983\":1},\"hearing(right)\":{\"38983\":1},\"systolic\":{\"38983\":114},\"relaxation\":{\"38983\":66},\"fasting blood sugar\":{\"38983\":86},\"Cholesterol\":{\"38983\":212},\"triglyceride\":{\"38983\":57},\"HDL\":{\"38983\":64},\"LDL\":{\"38983\":137},\"hemoglobin\":{\"38983\":13.9},\"Urine protein\":{\"38983\":1},\"serum creatinine\":{\"38983\":1.0},\"AST\":{\"38983\":18},\"ALT\":{\"38983\":12},\"Gtp\":{\"38983\":16},\"dental caries\":{\"38983\":0},\"smoking\":{\"38983\":1},\"bmi\":{\"38983\":19.5918367347}}'"
      ]
     },
     "execution_count": 33,
     "metadata": {},
     "output_type": "execute_result"
    }
   ],
   "source": [
    "c = df.tail(1).to_json()\n",
    "c"
   ]
  },
  {
   "cell_type": "code",
   "execution_count": null,
   "metadata": {},
   "outputs": [],
   "source": []
  }
 ],
 "metadata": {
  "kernelspec": {
   "display_name": "Python 3",
   "language": "python",
   "name": "python3"
  },
  "language_info": {
   "codemirror_mode": {
    "name": "ipython",
    "version": 3
   },
   "file_extension": ".py",
   "mimetype": "text/x-python",
   "name": "python",
   "nbconvert_exporter": "python",
   "pygments_lexer": "ipython3",
   "version": "3.11.4"
  }
 },
 "nbformat": 4,
 "nbformat_minor": 2
}
