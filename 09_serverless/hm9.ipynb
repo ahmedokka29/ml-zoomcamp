{
  "cells": [
    {
      "cell_type": "code",
      "execution_count": null,
      "metadata": {
        "id": "q97-uVaaTa2o"
      },
      "outputs": [],
      "source": [
        "# !wget https://github.com/alexeygrigorev/large-datasets/releases/download/wasps-bees/bees-wasps.h5"
      ]
    },
    {
      "cell_type": "code",
      "execution_count": 18,
      "metadata": {
        "id": "D07UXcgTb2k5"
      },
      "outputs": [],
      "source": [
        "import tensorflow as tf\n",
        "from tensorflow import keras\n",
        "import tensorflow.lite as tflite\n",
        "import numpy as np"
      ]
    },
    {
      "cell_type": "code",
      "execution_count": 16,
      "metadata": {},
      "outputs": [
        {
          "name": "stdout",
          "output_type": "stream",
          "text": [
            "INFO:tensorflow:Assets written to: C:\\Users\\ahmed\\AppData\\Local\\Temp\\tmpjtmr597t\\assets\n"
          ]
        },
        {
          "name": "stderr",
          "output_type": "stream",
          "text": [
            "INFO:tensorflow:Assets written to: C:\\Users\\ahmed\\AppData\\Local\\Temp\\tmpjtmr597t\\assets\n"
          ]
        }
      ],
      "source": [
        "model = keras.models.load_model('bees-wasps.h5')\n",
        "converter = tflite.TFLiteConverter.from_keras_model(model)\n",
        "tflite_model = converter.convert()\n",
        "\n",
        "# Save the model.\n",
        "with open('model.tflite', 'wb') as f:\n",
        "  f.write(tflite_model)"
      ]
    },
    {
      "cell_type": "markdown",
      "metadata": {
        "id": "gEO_tzsFcYH0"
      },
      "source": [
        "## Question 1\n",
        "\n",
        "Now convert this model from Keras to TF-Lite format.\n",
        "\n",
        "What's the size of the converted model?\n",
        "\n",
        "- 21 Mb\n",
        "- **43 Mb**\n",
        "- 80 Mb\n",
        "- 164 Mb"
      ]
    },
    {
      "cell_type": "code",
      "execution_count": 19,
      "metadata": {},
      "outputs": [],
      "source": [
        "interpreter = tflite.Interpreter(model_path = 'bees-wasps.tflite')\n",
        "interpreter.allocate_tensors()\n",
        "\n",
        "input_index = interpreter.get_input_details()[0]['index']\n",
        "output_index = interpreter.get_output_details()[0]['index']"
      ]
    },
    {
      "cell_type": "code",
      "execution_count": 24,
      "metadata": {},
      "outputs": [
        {
          "data": {
            "text/plain": [
              "[{'name': 'StatefulPartitionedCall:0',\n",
              "  'index': 13,\n",
              "  'shape': array([1, 1]),\n",
              "  'shape_signature': array([-1,  1]),\n",
              "  'dtype': numpy.float32,\n",
              "  'quantization': (0.0, 0),\n",
              "  'quantization_parameters': {'scales': array([], dtype=float32),\n",
              "   'zero_points': array([], dtype=int32),\n",
              "   'quantized_dimension': 0},\n",
              "  'sparsity_parameters': {}}]"
            ]
          },
          "execution_count": 24,
          "metadata": {},
          "output_type": "execute_result"
        }
      ],
      "source": [
        "interpreter.get_output_details()"
      ]
    },
    {
      "cell_type": "markdown",
      "metadata": {
        "id": "0orU9kRhb2k7"
      },
      "source": [
        "## Question 2\n",
        "\n",
        "To be able to use this model, we need to know the index of the input and the index of the output.\n",
        "\n",
        "What's the output index for this model?\n",
        "\n",
        "- 3\n",
        "- 7\n",
        "- **13**\n",
        "- 24"
      ]
    },
    {
      "cell_type": "code",
      "execution_count": 61,
      "metadata": {
        "colab": {
          "base_uri": "https://localhost:8080/"
        },
        "id": "q-Vtp0hKb2k_",
        "outputId": "4480af9c-1926-4a90-80f5-5a1c80e7ce3b"
      },
      "outputs": [],
      "source": [
        "classes = {'bee': 0, 'wasp': 1}"
      ]
    },
    {
      "cell_type": "code",
      "execution_count": 28,
      "metadata": {},
      "outputs": [],
      "source": [
        "from io import BytesIO\n",
        "from urllib import request\n",
        "\n",
        "from PIL import Image\n",
        "\n",
        "def download_image(url):\n",
        "    with request.urlopen(url) as resp:\n",
        "        buffer = resp.read()\n",
        "    stream = BytesIO(buffer)\n",
        "    img = Image.open(stream)\n",
        "    return img\n",
        "\n",
        "\n",
        "def prepare_image(img, target_size):\n",
        "    if img.mode != 'RGB':\n",
        "        img = img.convert('RGB')\n",
        "    img = img.resize(target_size, Image.NEAREST)\n",
        "    return img"
      ]
    },
    {
      "cell_type": "code",
      "execution_count": 50,
      "metadata": {},
      "outputs": [],
      "source": [
        "url = 'https://habrastorage.org/webt/rt/d9/dh/rtd9dhsmhwrdezeldzoqgijdg8a.jpeg'\n",
        "img = download_image(url)\n",
        "img = prepare_image(img,(150,150))"
      ]
    },
    {
      "cell_type": "code",
      "execution_count": 51,
      "metadata": {},
      "outputs": [
        {
          "data": {
            "text/plain": [
              "(1, 150, 150, 3)"
            ]
          },
          "execution_count": 51,
          "metadata": {},
          "output_type": "execute_result"
        }
      ],
      "source": [
        "x = np.array(img,dtype='float32')\n",
        "x = x/255\n",
        "X = np.array([x])\n",
        "X.shape\n"
      ]
    },
    {
      "cell_type": "code",
      "execution_count": 52,
      "metadata": {},
      "outputs": [
        {
          "data": {
            "text/plain": [
              "array([0.94509804, 0.9098039 , 0.8509804 ], dtype=float32)"
            ]
          },
          "execution_count": 52,
          "metadata": {},
          "output_type": "execute_result"
        }
      ],
      "source": [
        "X[0][0][0]"
      ]
    },
    {
      "cell_type": "markdown",
      "metadata": {
        "id": "Vp4AFiFeb2lB"
      },
      "source": [
        "## Question 3\n",
        "\n",
        "Now we need to turn the image into numpy array and pre-process it.\n",
        "\n",
        "> Tip: Check the previous homework. What was the pre-processing we did there?\n",
        "\n",
        "After the pre-processing, what's the value in the first pixel, the R channel?\n",
        "\n",
        "- 0.3450980\n",
        "- 0.5450980\n",
        "- 0.7450980\n",
        "- **0.9450980**"
      ]
    },
    {
      "cell_type": "code",
      "execution_count": 60,
      "metadata": {},
      "outputs": [
        {
          "data": {
            "text/plain": [
              "array([0.6592137], dtype=float32)"
            ]
          },
          "execution_count": 60,
          "metadata": {},
          "output_type": "execute_result"
        }
      ],
      "source": [
        "interpreter.set_tensor(input_index, X)\n",
        "interpreter.invoke()\n",
        "preds = interpreter.get_tensor(output_index)\n",
        "preds[0]"
      ]
    },
    {
      "cell_type": "code",
      "execution_count": 62,
      "metadata": {},
      "outputs": [
        {
          "data": {
            "text/plain": [
              "{'bee': 0, 'wasp': 1}"
            ]
          },
          "execution_count": 62,
          "metadata": {},
          "output_type": "execute_result"
        },
        {
          "ename": "",
          "evalue": "",
          "output_type": "error",
          "traceback": [
            "\u001b[1;31mThe Kernel crashed while executing code in the the current cell or a previous cell. Please review the code in the cell(s) to identify a possible cause of the failure. Click <a href='https://aka.ms/vscodeJupyterKernelCrash'>here</a> for more info. View Jupyter <a href='command:jupyter.viewOutput'>log</a> for further details."
          ]
        }
      ],
      "source": [
        "classes"
      ]
    },
    {
      "cell_type": "markdown",
      "metadata": {
        "id": "6FrW_iI5b2lD"
      },
      "source": [
        "## Question 4\n",
        "\n",
        "Now let's apply this model to this image. What's the output of the model?\n",
        "\n",
        "- 0.258\n",
        "- 0.458\n",
        "- **0.658**\n",
        "- 0.858"
      ]
    },
    {
      "cell_type": "markdown",
      "metadata": {},
      "source": [
        "## Prepare the lambda code \n",
        "\n",
        "Now you need to copy all the code into a separate python file. You will \n",
        "need to use this file for the next two questions.\n",
        "\n",
        "Tip: you can test this file locally with `ipython` or Jupyter Notebook \n",
        "by importing the file and invoking the function from this file.  "
      ]
    },
    {
      "cell_type": "markdown",
      "metadata": {},
      "source": [
        "## Docker \n",
        "\n",
        "For the next two questions, we'll use a Docker image that we already \n",
        "prepared. This is the Dockerfile that we used for creating the image:\n",
        "\n",
        "```docker\n",
        "FROM public.ecr.aws/lambda/python:3.10\n",
        "COPY bees-wasps-v2.tflite .\n",
        "```\n",
        "\n",
        "And pushed it to [`agrigorev/zoomcamp-bees-wasps:v2`](https://hub.docker.com/r/agrigorev/zoomcamp-bees-wasps/tags).\n",
        "\n",
        "A few notes:\n",
        "\n",
        "* The image already contains a model and it's not the same model\n",
        "  as the one we used for questions 1-4.\n",
        "* The version of Python is 3.10, so you need to use the right wheel for \n",
        "  TF-Lite. For Tensorflow 2.14.0, it's https://github.com/alexeygrigorev/tflite-aws-lambda/raw/main/tflite/tflite_runtime-2.14.0-cp310-cp310-linux_x86_64.whl"
      ]
    },
    {
      "cell_type": "markdown",
      "metadata": {},
      "source": [
        "## Question 5\n",
        "\n",
        "Download the base image `agrigorev/zoomcamp-bees-wasps:v2`. You can easily make it by using [docker pull](https://docs.docker.com/engine/reference/commandline/pull/) command.\n",
        "\n",
        "So what's the size of this base image?\n",
        "\n",
        "* 162 Mb\n",
        "* 362 Mb\n",
        "* **662 Mb**\n",
        "* 962 Mb\n",
        "\n",
        "You can get this information when running `docker images` - it'll be in the \"SIZE\" column."
      ]
    },
    {
      "cell_type": "markdown",
      "metadata": {},
      "source": [
        "## Question 6\n",
        "\n",
        "Now let's extend this docker image, install all the required libraries\n",
        "and add the code for lambda.\n",
        "\n",
        "You don't need to include the model in the image. It's already included. \n",
        "The name of the file with the model is `bees-wasps-v2.tflite` and it's \n",
        "in the current workdir in the image (see the Dockerfile above for the \n",
        "reference). \n",
        "The provided model requires the same preprocessing for images regarding target size and rescaling the value range than used in homework 8.\n",
        "\n",
        "Now run the container locally.\n",
        "\n",
        "Score this image: https://habrastorage.org/webt/rt/d9/dh/rtd9dhsmhwrdezeldzoqgijdg8a.jpeg\n",
        "\n",
        "What's the output from the model?\n",
        "\n",
        "* 0.2453\n",
        "* **0.4453**\n",
        "* 0.6453\n",
        "* 0.8453\n"
      ]
    },
    {
      "cell_type": "markdown",
      "metadata": {},
      "source": [
        "## Publishing it to AWS\n",
        "\n",
        "Now you can deploy your model to AWS!\n",
        "\n",
        "* Publish your image to ECR\n",
        "* Create a lambda function in AWS, use the ECR image\n",
        "* Give it more RAM and increase the timeout \n",
        "* Test it\n",
        "* Expose the lambda function using API Gateway\n",
        "\n",
        "This is optional and not graded.\n",
        "\n",
        "\n",
        "## Publishing to Docker hub\n",
        "\n",
        "This is just for reference, this is how we published our image to Docker hub:\n",
        "\n",
        "```bash\n",
        "docker build -t zoomcamp-bees-wasps -f homework.dockerfile .\n",
        "docker tag zoomcamp-bees-wasps:latest agrigorev/zoomcamp-bees-wasps:v2\n",
        "docker push agrigorev/zoomcamp-bees-wasps:v2\n",
        "```"
      ]
    }
  ],
  "metadata": {
    "accelerator": "GPU",
    "colab": {
      "gpuType": "T4",
      "provenance": []
    },
    "kernelspec": {
      "display_name": "Python 3",
      "name": "python3"
    },
    "language_info": {
      "codemirror_mode": {
        "name": "ipython",
        "version": 3
      },
      "file_extension": ".py",
      "mimetype": "text/x-python",
      "name": "python",
      "nbconvert_exporter": "python",
      "pygments_lexer": "ipython3",
      "version": "3.11.4"
    }
  },
  "nbformat": 4,
  "nbformat_minor": 0
}
